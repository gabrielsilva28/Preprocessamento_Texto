{
 "cells": [
  {
   "cell_type": "code",
   "execution_count": null,
   "metadata": {},
   "outputs": [],
   "source": [
    "import nltk\n",
    "from nltk.tokenize import word_tokenize\n",
    "from nltk.probability import FreqDist #ajuda no calculo da frequencia\n",
    "import re\n",
    "import string\n",
    "from collections import Counter #contador\n",
    "nltk.download('punkt') #ajuda a dividir um texto em uma lista de frases"
   ]
  },
  {
   "cell_type": "markdown",
   "metadata": {},
   "source": [
    "#1"
   ]
  },
  {
   "cell_type": "code",
   "execution_count": null,
   "metadata": {},
   "outputs": [],
   "source": [
    "def tokenizar_arquivo(arq):\n",
    "    #ler arquivo txt\n",
    "    with open(arq, 'r', encoding='utf-8') as arquivo:\n",
    "        texto = arquivo.read().replace(\"\\uFEFF\", \"\")\n",
    "    #retorna o token\n",
    "    tokens = word_tokenize(texto)\n",
    "    return tokens\n",
    "\n",
    "arquivo = 'The-Iliad-of-Homer.txt'\n",
    "tokens = tokenizar_arquivo(arquivo)\n",
    "\n",
    "print(tokens)"
   ]
  },
  {
   "cell_type": "markdown",
   "metadata": {},
   "source": [
    "#2"
   ]
  },
  {
   "cell_type": "code",
   "execution_count": null,
   "metadata": {},
   "outputs": [],
   "source": [
    "#2a\n",
    "def lower_case(text):\n",
    "    # Converte todos os caracteres para minusculo\n",
    "    return text.lower()\n",
    "\n",
    "#2b\n",
    "def remove_punctuation(text):\n",
    "    # Remove pontuacao e outros caracteres especiais usando regex\n",
    "    text = re.sub(r'[^\\w\\s]', '', text)\n",
    "    return text\n",
    "\n",
    "#2c\n",
    "def remove_stopwords(text, stopwords):\n",
    "    # Remove as stopwords \n",
    "    tokens = text.split()\n",
    "    filtered_tokens = [word for word in tokens if word not in stopwords]\n",
    "    return ' '.join(filtered_tokens)\n",
    "\n",
    "#2d.1\n",
    "def remove_mais_frequente(text, n):\n",
    "    # Remove as n palavras mais frequentes do texto\n",
    "    words = text.split()\n",
    "    word_counts = Counter(words)\n",
    "    most_common_words = [word for word, count in word_counts.most_common(n)]\n",
    "    filtered_words = [word for word in words if word not in most_common_words]\n",
    "    return ' '.join(filtered_words)\n",
    "\n",
    "#2d.2\n",
    "def remove_n_mais(text, n):\n",
    "    # Remove as palavras que ocorreram mais de n vezes no texto\n",
    "    words = text.split()\n",
    "    word_counts = Counter(words)\n",
    "    filtered_words = [word for word in words if word_counts[word] <= n]\n",
    "    return ' '.join(filtered_words)\n",
    "\n",
    "#2e.1\n",
    "def remove_menos_frequente(text, n):\n",
    "    # Remove as n palavras menos frequentes do texto\n",
    "    words = text.split()\n",
    "    word_counts = Counter(words)\n",
    "    least_common_words = [word for word, count in word_counts.most_common()[:-n-1:-1]]\n",
    "    filtered_words = [word for word in words if word not in least_common_words]\n",
    "    return ' '.join(filtered_words)\n",
    "\n",
    "#2e.2\n",
    "def remove_n_menos(text, n):\n",
    "    # Remove as palavras que ocorreram menos de n vezes no texto\n",
    "    words = text.split()\n",
    "    word_counts = Counter(words)\n",
    "    filtered_words = [word for word in words if word_counts[word] >= n]\n",
    "    return ' '.join(filtered_words)\n",
    "\n",
    "#carrega arquivo text com stopwords\n",
    "def carregar_stopwords(nome_arquivo):\n",
    "    with open(nome_arquivo, 'r', encoding='utf-8') as arquivo:\n",
    "        stopwords = set([linha.strip() for linha in arquivo])\n",
    "    return stopwords\n",
    "\n",
    "def processar_txt(nome_arquivo, nome_arquivo_stopwords, language='english'):\n",
    "    # Le o texto do arquivo\n",
    "    with open(nome_arquivo, 'r', encoding='utf-8') as arquivo:\n",
    "        texto = arquivo.read()\n",
    "        \n",
    "    # Carrega as stopwords do arquivo\n",
    "    stopwords = carregar_stopwords(nome_arquivo_stopwords)\n",
    "    # Aplicacao das etapas de normalizacao e limpeza\n",
    "    texto = lower_case(texto)\n",
    "    texto = remove_punctuation(texto)\n",
    "    texto = remove_stopwords(texto, stopwords)\n",
    "    #texto = remove_mais_frequente(texto,2)\n",
    "    #texto = remove_n_mais(texto,2)\n",
    "    #texto = remove_menos_frequente(texto, 2)\n",
    "    #texto = remove_n_menos(texto,2)\n",
    "\n",
    "    return texto\n",
    "\n",
    "nome_arquivo = 'The-Iliad-of-Homer.txt'  \n",
    "arquivo_stopwords = 'stoplist-ingles.txt' \n",
    "texto_processado = processar_txt(nome_arquivo, arquivo_stopwords)\n",
    "print(texto_processado)"
   ]
  },
  {
   "cell_type": "markdown",
   "metadata": {},
   "source": [
    "#3"
   ]
  },
  {
   "cell_type": "code",
   "execution_count": null,
   "metadata": {},
   "outputs": [],
   "source": [
    "def contar_types_e_tokens(texto):\n",
    "    with open(arquivo, 'r') as file:\n",
    "        texto = file.read()\n",
    "    # Remover pontuacao usando regex\n",
    "    tokens = re.findall(r'\\w+', texto.lower())\n",
    "    # Calcula o numero de types e tokens usando um contador\n",
    "    contador_tokens = Counter(tokens)\n",
    "    # Pega o numero de types com chaves unicas no Counter\n",
    "    numero_de_types = len(contador_tokens)\n",
    "    # Pega o numero de tokens na soma de valores no Counter\n",
    "    numero_de_tokens = sum(contador_tokens.values())\n",
    "\n",
    "    return numero_de_types, numero_de_tokens\n",
    "\n",
    "texto = \"The-Iliad-of-Homer.txt\"\n",
    "types, tokens = contar_types_e_tokens(texto)\n",
    "\n",
    "print(\"Número de Types:\", types)\n",
    "print(\"Número de Tokens:\", tokens)"
   ]
  },
  {
   "cell_type": "markdown",
   "metadata": {},
   "source": [
    "#4"
   ]
  },
  {
   "cell_type": "code",
   "execution_count": null,
   "metadata": {},
   "outputs": [],
   "source": [
    "def ranking_types_frequentes(nome_arquivo, stopwords_file='stoplist-ingles.txt', top_n=20):\n",
    "    with open(nome_arquivo, 'r', encoding='utf-8') as arquivo:\n",
    "        texto = arquivo.read()\n",
    "\n",
    "    palavras = word_tokenize(texto.lower())\n",
    "    stopwords = carregar_stopwords(stopwords_file)\n",
    "    # Remocao de stopwords e pontuacao\n",
    "    palavras = [palavra for palavra in palavras if palavra not in stopwords and re.match(r'^\\w+$', palavra)]\n",
    "\n",
    "    # Calcula a frequencia das palavras\n",
    "    freq_dist = Counter(palavras)\n",
    "\n",
    "    # Obtendo os tipos mais frequentes\n",
    "    tipos_frequentes = freq_dist.most_common(top_n)\n",
    "\n",
    "    return tipos_frequentes\n",
    "\n",
    "nome_arquivo = 'The-Iliad-of-Homer.txt'\n",
    "tipos_frequentes = ranking_types_frequentes(nome_arquivo)\n",
    "\n",
    "print(\"Ranking dos 20 tipos mais frequentes:\")\n",
    "for tipo, frequencia in tipos_frequentes:\n",
    "    print(f\"{tipo}: {frequencia}\")"
   ]
  }
 ],
 "metadata": {
  "kernelspec": {
   "display_name": "base",
   "language": "python",
   "name": "python3"
  },
  "language_info": {
   "codemirror_mode": {
    "name": "ipython",
    "version": 3
   },
   "file_extension": ".py",
   "mimetype": "text/x-python",
   "name": "python",
   "nbconvert_exporter": "python",
   "pygments_lexer": "ipython3",
   "version": "3.10.10"
  },
  "orig_nbformat": 4
 },
 "nbformat": 4,
 "nbformat_minor": 2
}
